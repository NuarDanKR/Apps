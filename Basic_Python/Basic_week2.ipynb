{
 "cells": [
  {
   "cell_type": "markdown",
   "metadata": {},
   "source": [
    "# 주피너 노트북 단축키\n",
    "### 셀 선택모드\n",
    "- 위로 셀 추가 [a]\n",
    "- 아래로 셀 추가[b]\n",
    "- 선택 셀 복사하기[c]\n",
    "- 선택 셀 아래에 붙여넣기[p]\n",
    "- 선택 셀 잘라내기 [x]\n",
    "- Markdown으로 변경 [m]\n",
    "- Code로 변경 [y]\n",
    "- 실행결과 열기/닫기 [o]\n",
    "- 선택 셀의 코드 입력모드 [enter]\n",
    "### 코드 입력모드\n",
    "- 커서 위치 라인 주석처리 [ctrl] + [/]\n",
    "- 셀 선택 모드로 돌아가기 [esc]\n",
    "- 선택 셀 코드 제자리에서 실행 [ctrl] + [enter]\n",
    "- 다음 셀로 이동하며 코드 실행 [shift] + [enter]"
   ]
  },
  {
   "cell_type": "markdown",
   "metadata": {},
   "source": [
    "^연산자 설명해주기"
   ]
  },
  {
   "cell_type": "code",
   "execution_count": 1,
   "metadata": {},
   "outputs": [
    {
     "data": {
      "text/plain": [
       "2"
      ]
     },
     "execution_count": 1,
     "metadata": {},
     "output_type": "execute_result"
    }
   ],
   "source": [
    "1 ^ 3 # XOR 0001, 0011 => 0010 => 2"
   ]
  },
  {
   "cell_type": "markdown",
   "metadata": {},
   "source": [
    "# 함수\n",
    "## `return`문의 이해\n",
    "- `return`문의 역할은 크게 두종류로 나뉨\n",
    "1. 함수 즉시 종료\n",
    "2. 값 돌려주기"
   ]
  },
  {
   "cell_type": "code",
   "execution_count": 8,
   "metadata": {},
   "outputs": [
    {
     "name": "stdout",
     "output_type": "stream",
     "text": [
      "함수 시작\n",
      "함수 끝\n",
      "None\n",
      "Hello World!\n"
     ]
    }
   ],
   "source": [
    "def square(x):\n",
    "    pass\n",
    "    # 스페이스 4번, 탭 1번\n",
    "print(\"함수 시작\")\n",
    "# return x * x # 3 * 3 =>\n",
    "print(\"함수 끝\")\n",
    "\n",
    "\n",
    "print(square(3)) # 9\n",
    "print(\"Hello World!\")"
   ]
  },
  {
   "cell_type": "markdown",
   "metadata": {},
   "source": [
    "## Scope(범위)이해하기\n",
    "- 로컬변수(local): 변수를 정의한 함수 내에서만 사용 가능 (제한된 변수)\n",
    "- 글로별 변수(Global): 모든 곳에서 사용 가능\n",
    "- 단, 함수에서 변수를 사용하게 되는 경우 로컬변수를 먼저 찾고 없을 경우 글로벌 변수를 찾음(만약, 같은 명칭으로 변수를 설정하게 될 시에 유의하여 사용할 것, 가급적 겹치지 않는 것이 우선)"
   ]
  },
  {
   "cell_type": "code",
   "execution_count": 12,
   "metadata": {},
   "outputs": [
    {
     "name": "stdout",
     "output_type": "stream",
     "text": [
      "3\n"
     ]
    }
   ],
   "source": [
    "def my_function():\n",
    "    x = 3\n",
    "#     print(x)\n",
    "    return x\n",
    "\n",
    "\n",
    "print(my_function())"
   ]
  },
  {
   "cell_type": "code",
   "execution_count": 14,
   "metadata": {},
   "outputs": [
    {
     "name": "stdout",
     "output_type": "stream",
     "text": [
      "2\n",
      "2\n"
     ]
    }
   ],
   "source": [
    "x = 2\n",
    "\n",
    "def my_function():\n",
    "    print(x)\n",
    "\n",
    "my_function()\n",
    "print(x)"
   ]
  },
  {
   "cell_type": "code",
   "execution_count": 15,
   "metadata": {},
   "outputs": [
    {
     "name": "stdout",
     "output_type": "stream",
     "text": [
      "3\n",
      "2\n"
     ]
    }
   ],
   "source": [
    "x = 2\n",
    "\n",
    "def my_function():\n",
    "    x = 3\n",
    "    print(x) # 3\n",
    "    \n",
    "my_function()\n",
    "print(x) # 2"
   ]
  },
  {
   "cell_type": "markdown",
   "metadata": {},
   "source": [
    "## 상수\n",
    "상수란? 절대로 바뀌지 않는 숫자[대문자 사용이 개발자들끼리의 약속!]\n",
    "값을 수정을 할 수는 있으나, 바꾸지 않겠다는 뜻으로 바꾸지 않는 것을 기본전제로 사용해야함"
   ]
  },
  {
   "cell_type": "code",
   "execution_count": 21,
   "metadata": {},
   "outputs": [
    {
     "name": "stdout",
     "output_type": "stream",
     "text": [
      "78.5\n"
     ]
    },
    {
     "data": {
      "text/plain": [
       "28.26"
      ]
     },
     "execution_count": 21,
     "metadata": {},
     "output_type": "execute_result"
    }
   ],
   "source": [
    "PI = 3.14\n",
    "\n",
    "def circle(r):\n",
    "    return (r ** 2) * PI # 5 * 5  = 25 * 3.14\n",
    "\n",
    "print(circle(5))\n",
    "circle(3)"
   ]
  },
  {
   "cell_type": "markdown",
   "metadata": {},
   "source": [
    "# 응용하기\n",
    "어떤 수가 짝수인지 홀수인지 판단해 주는 함수 is_evenly_divisible를 쓰세요.\n",
    "\n",
    "is_evenly_divisible는 number(수)를 파라미터로 받습니다. 짝수인 경우, 즉 number가 2로 나누어 떨어질 경우에는 True를 리턴해 줍니다. 홀수인 경우, 즉 number가 2로 나누어 떨어지지 않을 경우에는 False를 리턴해 줍니다.\n",
    "\n",
    "함수 안에는 print문이 아닌, return문을 사용해야 합니다. 그리고 참고로 불린 개념을 잘 사용하면, 함수 단 한 줄로 작성할 수 있습니다!"
   ]
  },
  {
   "cell_type": "code",
   "execution_count": 24,
   "metadata": {},
   "outputs": [
    {
     "name": "stdout",
     "output_type": "stream",
     "text": [
      "9\n",
      "False\n"
     ]
    }
   ],
   "source": [
    "def is_evenly_divisible(number):\n",
    "    # 코드를 작성하세요. \n",
    "    return (number % 2) == 0\n",
    "\n",
    "print(is_evenly_divisible(int(input())))"
   ]
  },
  {
   "cell_type": "markdown",
   "metadata": {},
   "source": [
    "[Shift] + [Tab]"
   ]
  },
  {
   "cell_type": "markdown",
   "metadata": {},
   "source": [
    "- 위 코드를 입력받은 숫자를 출력하는 것으로 바꾸려면?"
   ]
  },
  {
   "cell_type": "markdown",
   "metadata": {},
   "source": [
    "현명하게 거스름돈을 계산해 주는 프로그램을 만들려고 합니다. 예를 들어 33,000원짜리 물건을 사기 위해 100,000원을 냈다면,\n",
    "\n",
    "50,000원 1장\n",
    "10,000원 1장\n",
    "5,000원 1장\n",
    "1,000원 2장\n",
    "이런 식으로 '가장 적은 수'의 지폐를 거슬러 주는 것입니다. 방금 같은 경우에는 총 5장을 거슬러 준 거죠.\n",
    "\n",
    "우리는 calculate_change라는 함수를 작성하려고 하는데요. 이 함수는 지불한 금액을 나타내는 payment와 물건의 가격을 나타내는 cost를 파라미터로 받습니다.\n",
    "\n",
    "아래의 코드에 이어서 깔끔하게 프로그램을 작성해 보세요."
   ]
  },
  {
   "cell_type": "code",
   "execution_count": 34,
   "metadata": {},
   "outputs": [
    {
     "name": "stdout",
     "output_type": "stream",
     "text": [
      "50000원 지폐: 1장\n",
      "10000원 지폐: 1장\n",
      "5000원 지폐: 1장\n",
      "1000원 지폐: 2장\n",
      "\n",
      "50000원 지폐: 2장\n",
      "10000원 지폐: 2장\n",
      "5000원 지폐: 0장\n",
      "1000원 지폐: 2장\n",
      "100000\n",
      "50000원 지폐: 1장\n",
      "10000원 지폐: 4장\n",
      "5000원 지폐: 0장\n",
      "1000원 지폐: 2장\n"
     ]
    }
   ],
   "source": [
    "def calculate_change(payment, cost = 8000):\n",
    "    change = payment - cost # 67,000\n",
    "    \n",
    "    fifty_count = change // 50000 # 거슬러주는 지폐 장 수 (1)\n",
    "    ten_count = (change % 50000) // 10000 # (1)\n",
    "    five_count = (change % 10000) // 5000 # (1)\n",
    "    one_count = (change % 5000) // 1000 # (2)\n",
    "    print(\"50000원 지폐: \" + str(fifty_count) +\"장\")\n",
    "    print(\"10000원 지폐: \" + str(ten_count) +\"장\")\n",
    "    print(\"5000원 지폐: \" + str(five_count) +\"장\")\n",
    "    print(\"1000원 지폐: \" + str(one_count) +\"장\")\n",
    "    \n",
    "\n",
    "\n",
    "\n",
    "# 테스트\n",
    "calculate_change(100000, 33000)\n",
    "print()\n",
    "calculate_change(500000, 378000)\n",
    "calculate_change(int(input()))"
   ]
  },
  {
   "cell_type": "markdown",
   "metadata": {},
   "source": [
    "- 위 코드를 입력받은 숫자를 출력하는 것으로 바꾸려면?"
   ]
  },
  {
   "cell_type": "code",
   "execution_count": null,
   "metadata": {},
   "outputs": [],
   "source": []
  }
 ],
 "metadata": {
  "kernelspec": {
   "display_name": "Python 3",
   "language": "python",
   "name": "python3"
  },
  "language_info": {
   "codemirror_mode": {
    "name": "ipython",
    "version": 3
   },
   "file_extension": ".py",
   "mimetype": "text/x-python",
   "name": "python",
   "nbconvert_exporter": "python",
   "pygments_lexer": "ipython3",
   "version": "3.8.5"
  }
 },
 "nbformat": 4,
 "nbformat_minor": 4
}
