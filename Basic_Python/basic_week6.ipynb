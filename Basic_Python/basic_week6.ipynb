{
 "cells": [
  {
   "cell_type": "markdown",
   "metadata": {},
   "source": [
    "# 파일 쓰기, 읽기"
   ]
  },
  {
   "cell_type": "markdown",
   "metadata": {},
   "source": [
    "### 쓰기"
   ]
  },
  {
   "cell_type": "code",
   "execution_count": 5,
   "metadata": {},
   "outputs": [],
   "source": [
    "test_txt = open(\"./data/test.txt\", \"w\", encoding=\"utf-8-sig\") # .은 해당 폴더를 뜻함 write(쓰다)\n",
    "# C:/Users/yunju/Apps_basic/data/test.txt\n",
    "test_txt.write(\"감자\\n\")\n",
    "test_txt.writelines([\"호박\\n\", \"김치\\n\", \"오이\\n\"])\n",
    "test_txt.close()"
   ]
  },
  {
   "cell_type": "code",
   "execution_count": 7,
   "metadata": {},
   "outputs": [],
   "source": [
    "with open(\"./data/test2.txt\", \"w\", encoding=\"utf-8-sig\") as test_txt:\n",
    "    test_txt.write(\"감자\\n\")\n",
    "    for i in [\"호박\", \"김치\", \"오이\"]:\n",
    "        test_txt.write(i + \"\\n\")"
   ]
  },
  {
   "cell_type": "markdown",
   "metadata": {},
   "source": [
    "### 추가하기"
   ]
  },
  {
   "cell_type": "code",
   "execution_count": 9,
   "metadata": {},
   "outputs": [],
   "source": [
    "test_txt = open(\"./data/test.txt\", \"a\", encoding=\"utf-8-sig\") # appending(추가)\n",
    "test_txt.write(\"당근\\n\")\n",
    "test_txt.writelines([\"배추\\n\", \"수박\\n\", \"옥수수\\n\"])\n",
    "test_txt.close()"
   ]
  },
  {
   "cell_type": "code",
   "execution_count": 10,
   "metadata": {},
   "outputs": [],
   "source": [
    "with open(\"./data/test2.txt\", \"a\", encoding=\"utf-8-sig\") as test_txt:\n",
    "    test_txt.write(\"감자\")\n",
    "    test_txt.writelines([\"호박\", \"김치\", \"오이\"])"
   ]
  },
  {
   "cell_type": "markdown",
   "metadata": {},
   "source": [
    "### 읽기"
   ]
  },
  {
   "cell_type": "code",
   "execution_count": 13,
   "metadata": {
    "scrolled": true
   },
   "outputs": [
    {
     "name": "stdout",
     "output_type": "stream",
     "text": [
      "저희 APPS파이썬 기초반(기초반은 파이썬으로 운영됩니다)은 빠른 시간내에 화요일에 진행하는 알고리즘 수업을 이해할 수 있는 수준으로 개개인의 프로그래밍에 대한 역량을 향상시키는 목적으로 만들게 되었습니다.\n",
      "그렇다 보니 기본적으로 수업 속도가 매우 빠르고 속도가 빠른 만큼 질문에 대한 질의응답 시간이 그리 길지 않을 수 밖에 없습니다.\n",
      "그러니 개개인이 수업을 들으면서 다른 사람들이 질문하는 내용에 대해서 잘 들어주어서 같은 내용에 대해 두번 설명하는 일이 가급적 없었으면 합니다!\n",
      "추가로, 이번 수업을 진행하면서 잘 따라와주고 좋은 모습을 보여주시는 분을 뽑아서 저와 함께 기초반을 운영할 수 있도록 하려고 합니다! 관심 있으신분은 꾸준하고 적극적인 참여 부탁드립니다!\n",
      "\n",
      "목적\n",
      "- 프로그래밍 자체에 대한 가벼운 이해도를 형성한다.\n",
      "- 알고리즘에 대해 스스로 생각하고 설계할 수 있는 능력을 만든다.\n",
      "- 파이썬의 기본 활용능력을 기른다.\n",
      "- 여러개의 모듈을 만들어서 하나의 프로그램으로 만들어본다.\n",
      "- 로또게임, 숫자야구게임을 만들어본다.\n",
      "- 알고리즘 반의 수업을 따라잡는다.\n",
      "\n",
      "계획\n",
      "수업은 위의 목적을 순차적으로 이행 할 것이나, 기본적으로 수업 속도에 따라서 진도를 달리 할 것이기 때문에 정확한 주차별 목표를 정해놓지는 않겠습니다.\n",
      "1번 ~ 3번 목적에 대해서는 코딩도장(https://dojang.io/)과 부스트코스(https://www.boostcourse.org/cs122)을 이용하여 영상으로 함께 학습을 진행 할 것이며 중간중간 필요없는 부분에 대해서는 스킵 하도록 하겠습니다.\n",
      "4번 ~ 5번 목적은 코드잇(https://www.codeit.kr/)사이트의 예제와 설명을 함께 인용하여 진행 할 계획입니다.\n",
      "6번 목적은 기존 화요일 수업에서 진행했던 알고리즘을 난이도 별로 문제들 추려서 속성으로 진행 할 계획이며 이 때, 리뷰시간 외에는 별도의 질문 없이 빠르게 속성으로 진행 할 계획이기 때문에, 꼭 필요한 질문은 수업이 끝나고 별도로 해 주시면 다음 수업 전까지 정리해서 한번에 파일로 올려드리도록 하겠습니다.\n",
      "https://www.notion.so/f8bbb017f65e4468a7588ef39bab3e77?v=c8eb99ea737a4ac19086d58a886e9964\n",
      "위 글대로 진행 할 예정이며 매 수업마다 느끼는 진척도에 따라 매번 진도를 변경하도록 하겠습니다.(중간중간 쉬운부분 짧게 스킵하고 난이도를 올릴 수도 있습니다.)\n"
     ]
    }
   ],
   "source": [
    "test_txt = open(\"./data/temp_data.txt\", \"r\", encoding=\"utf-8-sig\") # reading \n",
    "line = test_txt.read() # read는 txt파일의 내용을 하나의 문자형으로 받아옴\n",
    "test_txt.close()\n",
    "print(line)"
   ]
  },
  {
   "cell_type": "code",
   "execution_count": 19,
   "metadata": {},
   "outputs": [
    {
     "name": "stdout",
     "output_type": "stream",
     "text": [
      "저희 APPS파이썬 기초반(기초반은 파이썬으로 운영됩니다)은 빠른 시간내에 화요일에 진행하는 알고리즘 수업을 이해할 수 있는 수준으로 개개인의 프로그래밍에 대한 역량을 향상시키는 목적으로 만들게 되었습니다.\n",
      "그렇다 보니 기본적으로 수업 속도가 매우 빠르고 속도가 빠른 만큼 질문에 대한 질의응답 시간이 그리 길지 않을 수 밖에 없습니다.\n"
     ]
    }
   ],
   "source": [
    "test_txt2 = open(\"./data/temp_data.txt\", \"r\", encoding=\"utf-8-sig\") # reading \n",
    "line2 = test_txt2.readline() # 한번에 한 줄을 받아 옴\n",
    "line3 = test_txt2.readline()\n",
    "test_txt2.close()\n",
    "print(line2.strip()) # strip(양쪽 공백), rstrip(오른쪽 공백), lstrip(왼쪽공백)\n",
    "print(line3.rstrip())"
   ]
  },
  {
   "cell_type": "code",
   "execution_count": 20,
   "metadata": {},
   "outputs": [
    {
     "name": "stdout",
     "output_type": "stream",
     "text": [
      "저희 APPS파이썬 기초반(기초반은 파이썬으로 운영됩니다)은 빠른 시간내에 화요일에 진행하는 알고리즘 수업을 이해할 수 있는 수준으로 개개인의 프로그래밍에 대한 역량을 향상시키는 목적으로 만들게 되었습니다.\n",
      "그렇다 보니 기본적으로 수업 속도가 매우 빠르고 속도가 빠른 만큼 질문에 대한 질의응답 시간이 그리 길지 않을 수 밖에 없습니다.\n",
      "그러니 개개인이 수업을 들으면서 다른 사람들이 질문하는 내용에 대해서 잘 들어주어서 같은 내용에 대해 두번 설명하는 일이 가급적 없었으면 합니다!\n",
      "추가로, 이번 수업을 진행하면서 잘 따라와주고 좋은 모습을 보여주시는 분을 뽑아서 저와 함께 기초반을 운영할 수 있도록 하려고 합니다! 관심 있으신분은 꾸준하고 적극적인 참여 부탁드립니다!\n",
      "\n",
      "목적\n",
      "- 프로그래밍 자체에 대한 가벼운 이해도를 형성한다.\n",
      "- 알고리즘에 대해 스스로 생각하고 설계할 수 있는 능력을 만든다.\n",
      "- 파이썬의 기본 활용능력을 기른다.\n",
      "- 여러개의 모듈을 만들어서 하나의 프로그램으로 만들어본다.\n",
      "- 로또게임, 숫자야구게임을 만들어본다.\n",
      "- 알고리즘 반의 수업을 따라잡는다.\n",
      "\n",
      "계획\n",
      "수업은 위의 목적을 순차적으로 이행 할 것이나, 기본적으로 수업 속도에 따라서 진도를 달리 할 것이기 때문에 정확한 주차별 목표를 정해놓지는 않겠습니다.\n",
      "1번 ~ 3번 목적에 대해서는 코딩도장(https://dojang.io/)과 부스트코스(https://www.boostcourse.org/cs122)을 이용하여 영상으로 함께 학습을 진행 할 것이며 중간중간 필요없는 부분에 대해서는 스킵 하도록 하겠습니다.\n",
      "4번 ~ 5번 목적은 코드잇(https://www.codeit.kr/)사이트의 예제와 설명을 함께 인용하여 진행 할 계획입니다.\n",
      "6번 목적은 기존 화요일 수업에서 진행했던 알고리즘을 난이도 별로 문제들 추려서 속성으로 진행 할 계획이며 이 때, 리뷰시간 외에는 별도의 질문 없이 빠르게 속성으로 진행 할 계획이기 때문에, 꼭 필요한 질문은 수업이 끝나고 별도로 해 주시면 다음 수업 전까지 정리해서 한번에 파일로 올려드리도록 하겠습니다.\n",
      "https://www.notion.so/f8bbb017f65e4468a7588ef39bab3e77?v=c8eb99ea737a4ac19086d58a886e9964\n",
      "위 글대로 진행 할 예정이며 매 수업마다 느끼는 진척도에 따라 매번 진도를 변경하도록 하겠습니다.(중간중간 쉬운부분 짧게 스킵하고 난이도를 올릴 수도 있습니다.)\n"
     ]
    }
   ],
   "source": [
    "with open(\"./data/temp_data.txt\", \"r\", encoding=\"utf-8-sig\") as test_txt:\n",
    "    line = test_txt.read()\n",
    "    test_txt.close()\n",
    "\n",
    "print(line)"
   ]
  },
  {
   "cell_type": "code",
   "execution_count": 26,
   "metadata": {},
   "outputs": [
    {
     "name": "stdout",
     "output_type": "stream",
     "text": [
      "저희 APPS파이썬 기초반(기초반은 파이썬으로 운영됩니다)은 빠른 시간내에 화요일에 진행하는 알고리즘 수업을 이해할 수 있는 수준으로 개개인의 프로그래밍에 대한 역량을 향상시키는 목적으로 만들게 되었습니다.\n",
      "그렇다 보니 기본적으로 수업 속도가 매우 빠르고 속도가 빠른 만큼 질문에 대한 질의응답 시간이 그리 길지 않을 수 밖에 없습니다.\n",
      "그러니 개개인이 수업을 들으면서 다른 사람들이 질문하는 내용에 대해서 잘 들어주어서 같은 내용에 대해 두번 설명하는 일이 가급적 없었으면 합니다!\n",
      "추가로, 이번 수업을 진행하면서 잘 따라와주고 좋은 모습을 보여주시는 분을 뽑아서 저와 함께 기초반을 운영할 수 있도록 하려고 합니다! 관심 있으신분은 꾸준하고 적극적인 참여 부탁드립니다!\n",
      "목적\n",
      "- 프로그래밍 자체에 대한 가벼운 이해도를 형성한다.\n",
      "- 알고리즘에 대해 스스로 생각하고 설계할 수 있는 능력을 만든다.\n",
      "- 파이썬의 기본 활용능력을 기른다.\n",
      "- 여러개의 모듈을 만들어서 하나의 프로그램으로 만들어본다.\n",
      "- 로또게임, 숫자야구게임을 만들어본다.\n",
      "- 알고리즘 반의 수업을 따라잡는다.\n",
      "계획\n",
      "수업은 위의 목적을 순차적으로 이행 할 것이나, 기본적으로 수업 속도에 따라서 진도를 달리 할 것이기 때문에 정확한 주차별 목표를 정해놓지는 않겠습니다.\n",
      "1번 ~ 3번 목적에 대해서는 코딩도장(https://dojang.io/)과 부스트코스(https://www.boostcourse.org/cs122)을 이용하여 영상으로 함께 학습을 진행 할 것이며 중간중간 필요없는 부분에 대해서는 스킵 하도록 하겠습니다.\n",
      "4번 ~ 5번 목적은 코드잇(https://www.codeit.kr/)사이트의 예제와 설명을 함께 인용하여 진행 할 계획입니다.\n",
      "6번 목적은 기존 화요일 수업에서 진행했던 알고리즘을 난이도 별로 문제들 추려서 속성으로 진행 할 계획이며 이 때, 리뷰시간 외에는 별도의 질문 없이 빠르게 속성으로 진행 할 계획이기 때문에, 꼭 필요한 질문은 수업이 끝나고 별도로 해 주시면 다음 수업 전까지 정리해서 한번에 파일로 올려드리도록 하겠습니다.\n",
      "https://www.notion.so/f8bbb017f65e4468a7588ef39bab3e77?v=c8eb99ea737a4ac19086d58a886e9964\n",
      "위 글대로 진행 할 예정이며 매 수업마다 느끼는 진척도에 따라 매번 진도를 변경하도록 하겠습니다.(중간중간 쉬운부분 짧게 스킵하고 난이도를 올릴 수도 있습니다.)\n"
     ]
    }
   ],
   "source": [
    "with open(\"./data/temp_data.txt\", \"r\", encoding=\"utf-8-sig\") as test_txt:\n",
    "    line = test_txt.read()\n",
    "    line_list = line.split(\"\\n\") # split(나누다) 기본적으로 화이트 스페이스(스페이스바, 줄바꿈을 통칭하는 개념)를 기준으로 함\n",
    "    test_txt.close()\n",
    "\n",
    "for line in line_list: # != 0이랑 0.0이랑비교를 했을 때 두개가 같다고나옴 is 0이랑 0.0이랑 다르다고 나옴 그 이유는 데이터 형식이 다르기때문\n",
    "    if line != \"\":\n",
    "        print(line)"
   ]
  },
  {
   "cell_type": "markdown",
   "metadata": {},
   "source": [
    "### [과제]\n",
    "1. temp_data의 자료 중 목적만 골라서 출력하기(목적이라는 글자는 나와도 되고 안나와도 됩니다.) + 각 줄마다 출력이 되어야 합니다.(방식에 구애받지 마시고 본인이 할 수 있는 한 최대한만 하시면 됩니다.)\n",
    "2. 글의 내용 중 코드강의 사이트들이 있습니다. 해당 코드만 모아서 한줄씩 하나의 txt파일로 만들기\n",
    "* hint1. 목적을 기준으로 나눌수도 있지 않을까? 왜 뛰어쓰기 두번이 되어있을까?\n",
    "* hint2. https라는 형식을 갖고 있구나, 괄호로 둘러싸여있음"
   ]
  },
  {
   "cell_type": "code",
   "execution_count": null,
   "metadata": {},
   "outputs": [],
   "source": []
  },
  {
   "cell_type": "markdown",
   "metadata": {},
   "source": [
    "# 재귀함수"
   ]
  },
  {
   "cell_type": "markdown",
   "metadata": {},
   "source": [
    "* 함수 내부에서 본인을 호출하는 함수"
   ]
  },
  {
   "cell_type": "code",
   "execution_count": 27,
   "metadata": {},
   "outputs": [
    {
     "name": "stdout",
     "output_type": "stream",
     "text": [
      "120\n"
     ]
    }
   ],
   "source": [
    "def factorial(n):\n",
    "    if n == 1: # n이 1일 경우\n",
    "        return 1 # 1을 출력하고\n",
    "    return n * factorial(n - 1) # 아닐경우 n과 n-1을 factorial함수에 넣어서 반환함\n",
    "\"\"\"\n",
    "5 * (factorial(4) == 4 * (factorial(3) == 3 * (factorial(2) == 2 * factorial(1) == 1)))\n",
    "5 * 4 * 3 * 2 * 1\n",
    "\"\"\"\n",
    " \n",
    "print(factorial(5)) # 5 * 4 * 3 * 2 * 1"
   ]
  },
  {
   "cell_type": "markdown",
   "metadata": {},
   "source": [
    "### [과제]\n",
    "* 재귀함수를 사용하여 피보나치 수열 30번째 수 구하기\n",
    "* hint! 피보나치 수열은 0일때는 0, 1, 2번째는 1이 들어가며, 그 이외에는 본인의 차수보다 1이 작은 값과 2가 작은 값이 더해진 수가 본인이다.(n-1)(n-2)"
   ]
  },
  {
   "cell_type": "code",
   "execution_count": null,
   "metadata": {},
   "outputs": [],
   "source": [
    "def pivonachi(n):\n",
    "    "
   ]
  }
 ],
 "metadata": {
  "kernelspec": {
   "display_name": "Python 3",
   "language": "python",
   "name": "python3"
  },
  "language_info": {
   "codemirror_mode": {
    "name": "ipython",
    "version": 3
   },
   "file_extension": ".py",
   "mimetype": "text/x-python",
   "name": "python",
   "nbconvert_exporter": "python",
   "pygments_lexer": "ipython3",
   "version": "3.8.5"
  }
 },
 "nbformat": 4,
 "nbformat_minor": 4
}
