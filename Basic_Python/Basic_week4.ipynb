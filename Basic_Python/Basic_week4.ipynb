{
 "cells": [
  {
   "cell_type": "markdown",
   "metadata": {},
   "source": [
    "# 3주차 과제풀이"
   ]
  },
  {
   "cell_type": "markdown",
   "metadata": {},
   "source": [
    "### 학점계산기 만들기\n",
    "이 수업에는 50점 만점의 중간고사와 50점 만점의 기말고사가 있는데요. 두 시험의 점수를 합해서 최종 성적을 내는 방식입니다. 규칙은 다음과 같습니다.\n",
    "\n",
    "A: 90점 이상\n",
    "\n",
    "B: 80점 이상 90점 미만\n",
    "\n",
    "C: 70점 이상 80점 미만\n",
    "\n",
    "D: 60점 이상 70점 미만\n",
    "\n",
    "F: 60점 미만"
   ]
  },
  {
   "cell_type": "markdown",
   "metadata": {},
   "source": [
    "### 오류잡기\n",
    "+ 여러분들이 보내준 내용 중 정말 좋은 예시가 있어서 예시를 통해 오류를 잡으면서 설명 해 드리겠습니다"
   ]
  },
  {
   "cell_type": "code",
   "execution_count": 1,
   "metadata": {},
   "outputs": [
    {
     "name": "stdout",
     "output_type": "stream",
     "text": [
      "B\n",
      "C\n",
      "D\n",
      "F\n",
      "D\n",
      "A\n",
      "B\n",
      "C\n",
      "D\n"
     ]
    }
   ],
   "source": [
    "def print_grade(x, y):\n",
    "    total = x + y\n",
    "    if total >= 90:\n",
    "        print(\"A\")\n",
    "    if total >= 80:\n",
    "        print(\"B\")\n",
    "    if total >= 70:\n",
    "        print(\"C\")\n",
    "    if total >= 60:\n",
    "        print(\"D\")\n",
    "    if total < 60:\n",
    "        print(\"F\")\n",
    "    \n",
    "\n",
    "print_grade(40, 45)\n",
    "print_grade(20, 35)\n",
    "print_grade(30, 32)\n",
    "print_grade(50, 45)"
   ]
  },
  {
   "cell_type": "markdown",
   "metadata": {},
   "source": [
    "+ 위 풀이는 문제에 대해 정말 충실하고 정확한 풀이를 했음에도 불구하고 정답에서 잘못된 예시가 나왔습니다. 우선 값이 B부터 시작해서 그 아래의 값까지 나온 이유는 중복되는 부분에 대해서(ex. 85점이라면 80점이상에도 부합하고, 70점 이상에도 부합함..) 제거를 해주지 않았기 때문인데요 이 부분을 해결 해 보겠습니다."
   ]
  },
  {
   "cell_type": "code",
   "execution_count": 2,
   "metadata": {},
   "outputs": [
    {
     "name": "stdout",
     "output_type": "stream",
     "text": [
      "B\n",
      "F\n",
      "D\n",
      "A\n"
     ]
    }
   ],
   "source": [
    "def print_grade(x, y):\n",
    "    total = x + y\n",
    "    if total >= 90: # 90이상은 중복이 일어날 수 없기 때문에 수정하지 않음\n",
    "        print(\"A\")\n",
    "    if total >= 80 and total < 90: # 80이상 '이고' 90 미만 인 경우\n",
    "        print(\"B\")\n",
    "    if total >= 70 and total < 80: # 70이상 '이고' 80 미만 인 경우\n",
    "        print(\"C\")\n",
    "    if total >= 60 and total < 70: # 60이상 '이고' 70 미만 인 경우\n",
    "        print(\"D\") \n",
    "    if total < 60: # 60미만은 중복되는 경우의 수가 없기 때문에 수정하지 않음\n",
    "        print(\"F\")\n",
    "    \n",
    "\n",
    "print_grade(40, 45)\n",
    "print_grade(20, 35)\n",
    "print_grade(30, 32)\n",
    "print_grade(50, 45)"
   ]
  },
  {
   "cell_type": "markdown",
   "metadata": {},
   "source": [
    "+ 문제에서 각 등급에 대한 내용을 이야기 해 줄 때, 조건이 두개인 항목에 대해서만 조건을 두개로 만들어 주었습니다. 그리고 그 모든 값을 충족할 때, True를 반환하는 and연산자(True and True = True / True and False = False)를 사용하여 결과값을 출력 해 주었습니다.(or연산자 - True and True = True / True and False = True, 둘 중 하나만 True여도 True출력) 그런데도 여전히 여러분들이 보시기에는 개선할 부분이 많이 보일 것입니다. 우리는 If문을 배울 때 else문을 함께 배웠는데요 그럼 else문을 사용해 볼까요?"
   ]
  },
  {
   "cell_type": "code",
   "execution_count": 3,
   "metadata": {},
   "outputs": [
    {
     "name": "stdout",
     "output_type": "stream",
     "text": [
      "B\n",
      "F\n",
      "D\n",
      "A\n"
     ]
    }
   ],
   "source": [
    "def print_grade(x, y):\n",
    "    total = x + y\n",
    "    if total >= 90:\n",
    "        print(\"A\")\n",
    "    else:\n",
    "        if total >= 80: # 90이상이 아닐 때, 80이상인 경우 즉, 80이상 90미만\n",
    "            print(\"B\")\n",
    "        else:\n",
    "            if total >= 70: # 80이상이 아닐 때, 70이상인 경우 즉, 70이상 80미만\n",
    "                print(\"C\")\n",
    "            else:\n",
    "                if total >= 60: # 70이상이 아닐 때, 60이상인 경우 즉, 60이상 70미만\n",
    "                    print(\"D\")\n",
    "                else:\n",
    "                    if total < 60:\n",
    "                        print(\"F\")\n",
    "    \n",
    "\n",
    "print_grade(40, 45)\n",
    "print_grade(20, 35)\n",
    "print_grade(30, 32)\n",
    "print_grade(50, 45)"
   ]
  },
  {
   "cell_type": "markdown",
   "metadata": {},
   "source": [
    "+ 이번에는 if문이 거짓(False)일 경우 작동되는 else문을 사용 해서 중첩if문을 작성 해 보았는데요, 구동 원리는 위에 있는 캡션으로 달아 놓았습니다. 다만, 여전히 난잡한 모양새이죠 좀 더 간단하게 만드는 방법은 elif를 사용하는 겁니다!"
   ]
  },
  {
   "cell_type": "code",
   "execution_count": 4,
   "metadata": {},
   "outputs": [
    {
     "name": "stdout",
     "output_type": "stream",
     "text": [
      "B\n",
      "F\n",
      "D\n",
      "A\n"
     ]
    }
   ],
   "source": [
    "def print_grade(x, y):\n",
    "    total = x + y\n",
    "    if total >= 90:\n",
    "        print(\"A\")\n",
    "    elif total >= 80:\n",
    "        print(\"B\")\n",
    "    elif total >= 70:\n",
    "        print(\"C\")\n",
    "    elif total >= 60:\n",
    "        print(\"D\")\n",
    "    if total < 60:\n",
    "        print(\"F\")\n",
    "    \n",
    "\n",
    "print_grade(40, 45)\n",
    "print_grade(20, 35)\n",
    "print_grade(30, 32)\n",
    "print_grade(50, 45)"
   ]
  },
  {
   "cell_type": "markdown",
   "metadata": {},
   "source": [
    "+ 매우 정돈된 상태로 코드가 작성이 되었죠? 위 중첩if와 구동원리는 같습니다. 다만, 거짓일 경우에 대하여 바로 조건을 준 것 뿐이죠, 그렇기때문에 조건을 주는 if부분이 생략될 수 있었고 들여쓰기 또한 규칙성있는 모습으로 작성할 수 있었습니다. 여러분들이 사용을 하실 때, 단순히 조건만 확인을 해도 되는 상황이라면 elif문을 사용 하셔도 괜찮지만 그런 경우가 아니라 다른 작업도 병행을 해야 한다고 하면 else문을 사용하는 것이 바람직할 수 있습니다. 이러한 활용능력은 함께 공부하다 보면 자연스레 향상 될 것이니 너무 걱정말고 학회 수업을 잘 따라와 주셨으면 합니다! 추가적으로 한가지 더 보여드리겠습니다"
   ]
  },
  {
   "cell_type": "code",
   "execution_count": 5,
   "metadata": {},
   "outputs": [
    {
     "name": "stdout",
     "output_type": "stream",
     "text": [
      "B\n",
      "F\n",
      "D\n",
      "A\n"
     ]
    }
   ],
   "source": [
    "def print_grade(x, y):\n",
    "    total = x + y\n",
    "    if total >= 90:\n",
    "        return(\"A\")\n",
    "    if total >= 80:\n",
    "        return(\"B\")\n",
    "    if total >= 70:\n",
    "        return(\"C\")\n",
    "    if total >= 60:\n",
    "        return(\"D\")\n",
    "    if total < 60:\n",
    "        return(\"F\")\n",
    "    \n",
    "\n",
    "print(print_grade(40, 45))\n",
    "print(print_grade(20, 35))\n",
    "print(print_grade(30, 32))\n",
    "print(print_grade(50, 45))"
   ]
  },
  {
   "cell_type": "markdown",
   "metadata": {},
   "source": [
    "+ 이번에는 중첩 if도, elif도, 여러가지 조건도 주지 않았는데 결과값이 정확하게 나왔습니다! 왜일까요?\n",
    "+ 정답은 'return'문에 있습니다! 제가 저번 수업에 말씀드렸었는데 return문은 \"값을 반환 하면서 해당 함수를 끝내버린다.\"라고 설명 해 드렸습니다. 그 구동 원리를 적용 시킨 것인데요, return문으로 조건이 충족 되면 끝내버리고 그 값을 아래 문제에서 print해버리는 방식으로 바꾸어 버린 겁니다.\n",
    "+ 이 구동이 가능한 이유는 위엣값부터 갖고오며, 이상인 값으로 조건을 비교하기 때문인데요. 만약에 60이상인 값을 비교하는 구문이 위에 올라와 있었더라면 모든 값이 F아니면 D밖에는 나오지 않았을 것입니다!"
   ]
  },
  {
   "cell_type": "markdown",
   "metadata": {},
   "source": [
    "'2021 Apps학회'는 학회원들이 많아졌어요.\n",
    "\n",
    "학회장님이 \"빨리 대면으로 수업하고 싶다\"라고 했어요. 여러분들은요?\n",
    "\n",
    "\n",
    "+ 라는 문장을 출력하라는 문제였는데 문제에 대한 설명이 없었네요ㅠㅠ 그래서 제가 간단하게 답만 적어놓겠습니다. print문에 대한 연습 문제인데요"
   ]
  },
  {
   "cell_type": "code",
   "execution_count": 6,
   "metadata": {},
   "outputs": [
    {
     "name": "stdout",
     "output_type": "stream",
     "text": [
      "'2021 Apps학회'는 학회원들이 많아졌어요.\n",
      "\n",
      "학회장님이 \"빨리 대면으로 수업하고 싶다\"라고 했어요. 여러분들은요?\n"
     ]
    }
   ],
   "source": [
    "print(\"'2021 Apps학회'는 학회원들이 많아졌어요.\")\n",
    "print()\n",
    "print('학회장님이 \"빨리 대면으로 수업하고 싶다\"라고 했어요. 여러분들은요?')"
   ]
  },
  {
   "cell_type": "markdown",
   "metadata": {},
   "source": [
    "+ 구동원리는 간단합니다! \"\"(큰따옴표)와 ''(작은따옴표)로 문장형(string)을 나타낸다고 말씀 드렸었는데, 가장 바깥에 있는 것을 기준으로 묶게 됩니다. 그렇기 때문에 제가 문장 내부에 작은따옴표와 큰 따옴표를 구분하여 사용한 것이지요, 근데 어쩔 수 없이 문장에 쌍따옴표와 작은 따옴표가 둘 다 들어가게 된다면요? 어떻게 해야 할까요?"
   ]
  },
  {
   "cell_type": "code",
   "execution_count": 11,
   "metadata": {},
   "outputs": [
    {
     "name": "stdout",
     "output_type": "stream",
     "text": [
      "'2021 Apps학회'는 학회원들이 많아졌어요.\n",
      "\n",
      "학회장님이 \"빨리 대면으로 수업하고 싶다\"라고 했어요.여러분들은요?\n"
     ]
    }
   ],
   "source": [
    "print(\"'2021 Apps학회'는 학회원들이 많아졌어요.\\n\\n학회장님이 \\\"빨리 대면으로 수업하고 싶다\\\"라고 했어요.여러분들은요?\")"
   ]
  },
  {
   "cell_type": "markdown",
   "metadata": {},
   "source": [
    "+ 역 슬래쉬(\\)기호를 사용하면 됩니다!. 문장 안에서 역 슬래쉬를 사용하게 되면 작은따옴표(')나 큰따옴표(\")같은 것들을 기능적인 기호로 보지 않고 문자로 인식하겠다는 것을 표시하게 됩니다! 괄호(')')도 마찬가지겠지요?"
   ]
  },
  {
   "cell_type": "markdown",
   "metadata": {},
   "source": [
    "#### Summery\n",
    "* 이상으로 과제풀이는 마치고, 다음 수업에서 반복문으로 찾아오겠습니다~ 다들 중간고사 화이팅이에요!!\n",
    "* ps. boolean은 풀이라고 할 내용이 마땅치 않아 따로 풀이하지는 않았지만 요청하신다면 다음 수업 전에 풀이 올려드리겠습니다~"
   ]
  },
  {
   "cell_type": "code",
   "execution_count": null,
   "metadata": {},
   "outputs": [],
   "source": []
  }
 ],
 "metadata": {
  "kernelspec": {
   "display_name": "Python 3",
   "language": "python",
   "name": "python3"
  },
  "language_info": {
   "codemirror_mode": {
    "name": "ipython",
    "version": 3
   },
   "file_extension": ".py",
   "mimetype": "text/x-python",
   "name": "python",
   "nbconvert_exporter": "python",
   "pygments_lexer": "ipython3",
   "version": "3.8.5"
  }
 },
 "nbformat": 4,
 "nbformat_minor": 4
}
