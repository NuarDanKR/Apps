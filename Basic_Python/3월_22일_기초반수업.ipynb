{
 "cells": [
  {
   "cell_type": "markdown",
   "metadata": {},
   "source": [
    "# 자료형\n",
    "- 기본적으로 정수형, 소수형, 문자형, 불린 등이 있음\n",
    "- 정수(int)형(-1, 0, 1)을 포함하는 소수점이 없는 수\n",
    "- 소수(float)형 (1.0, -7.3)등의 소수점이 붙은 수의 형태\n",
    "- 문자형(string)형 (\"1\", \"2\", \"3\")등으로 표현함\n",
    "- 불린(boolean) 기본적으로 True, False의 두 값을 가지며, 보통은 계산식 또는 비교식으로 나타냄"
   ]
  },
  {
   "cell_type": "code",
   "execution_count": 5,
   "metadata": {},
   "outputs": [
    {
     "name": "stdout",
     "output_type": "stream",
     "text": [
      "hello world\n"
     ]
    }
   ],
   "source": [
    "print(\"hello world\") # 프린트함수를 통해 출력이 가능하다."
   ]
  },
  {
   "cell_type": "code",
   "execution_count": 6,
   "metadata": {},
   "outputs": [
    {
     "data": {
      "text/plain": [
       "'hello world'"
      ]
     },
     "execution_count": 6,
     "metadata": {},
     "output_type": "execute_result"
    }
   ],
   "source": [
    "\"hello world\" # 주피터 노트북에서는 프린트 함수를 사용하지 않더라도 아웃풋(결과)를 볼 수 있으나, 맨 아래에 있는 내용만 해당됨"
   ]
  },
  {
   "cell_type": "code",
   "execution_count": 10,
   "metadata": {},
   "outputs": [
    {
     "data": {
      "text/plain": [
       "1"
      ]
     },
     "execution_count": 10,
     "metadata": {},
     "output_type": "execute_result"
    }
   ],
   "source": [
    "x = 1 # x = 1이라는 식은 x가 1 이라는 것이 아니라 1의 값을 x에다가 넣어주겠다고 하는 식\n",
    "x"
   ]
  },
  {
   "cell_type": "code",
   "execution_count": 11,
   "metadata": {},
   "outputs": [
    {
     "data": {
      "text/plain": [
       "2"
      ]
     },
     "execution_count": 11,
     "metadata": {},
     "output_type": "execute_result"
    }
   ],
   "source": [
    "x = x + 1 # x = x + 1은 x에 1을 더한 값으로 x를 최신회 시켜주겠다는 뜻\n",
    "x"
   ]
  },
  {
   "cell_type": "code",
   "execution_count": 13,
   "metadata": {},
   "outputs": [
    {
     "data": {
      "text/plain": [
       "True"
      ]
     },
     "execution_count": 13,
     "metadata": {},
     "output_type": "execute_result"
    }
   ],
   "source": [
    "2 == 2.0 # 기본적으로 정수(int)형 2와 소수(float)형 2.0은 같다고 봐서는 안됨, 마찬가지로 문자(String)형 \"2\"가 있음"
   ]
  },
  {
   "cell_type": "code",
   "execution_count": 15,
   "metadata": {},
   "outputs": [
    {
     "data": {
      "text/plain": [
       "12.0"
      ]
     },
     "execution_count": 15,
     "metadata": {},
     "output_type": "execute_result"
    }
   ],
   "source": [
    "y = 10\n",
    "c = x + 10.0\n",
    "c\n",
    "# 정수형 + 정수형 = 정수 / 정수형 + 소수형 = 소수형 / 소수형 + 소수형 = 소수형\n",
    "# 정수형 < 소수형 / 데이터의 크기를 비교하면 소수형이 큼(넓은 의미에서는 소수형 내에 정수형이 포함됨)"
   ]
  },
  {
   "cell_type": "code",
   "execution_count": 17,
   "metadata": {},
   "outputs": [
    {
     "data": {
      "text/plain": [
       "'apple'"
      ]
     },
     "execution_count": 17,
     "metadata": {},
     "output_type": "execute_result"
    }
   ],
   "source": [
    "a = \"apple\" # 문자형 또한 변수로 입력 가능(\"\" 또는 ''로 묶어줘야함)\n",
    "a"
   ]
  },
  {
   "cell_type": "code",
   "execution_count": 18,
   "metadata": {},
   "outputs": [
    {
     "data": {
      "text/plain": [
       "'banana'"
      ]
     },
     "execution_count": 18,
     "metadata": {},
     "output_type": "execute_result"
    }
   ],
   "source": [
    "b = \"banana\" \n",
    "b"
   ]
  },
  {
   "cell_type": "code",
   "execution_count": 19,
   "metadata": {},
   "outputs": [
    {
     "data": {
      "text/plain": [
       "'applebanana'"
      ]
     },
     "execution_count": 19,
     "metadata": {},
     "output_type": "execute_result"
    }
   ],
   "source": [
    "a + b # 문자형 끼리의 덧셈도 가능함"
   ]
  },
  {
   "cell_type": "code",
   "execution_count": 7,
   "metadata": {},
   "outputs": [
    {
     "data": {
      "text/plain": [
       "1"
      ]
     },
     "execution_count": 7,
     "metadata": {},
     "output_type": "execute_result"
    }
   ],
   "source": [
    "int(True) # Boolean값 True는 숫자로 표현하면 1임"
   ]
  },
  {
   "cell_type": "code",
   "execution_count": 39,
   "metadata": {},
   "outputs": [
    {
     "data": {
      "text/plain": [
       "0"
      ]
     },
     "execution_count": 39,
     "metadata": {},
     "output_type": "execute_result"
    }
   ],
   "source": [
    "int(False) # Boolean값 False는 숫자로 표현하면 0임"
   ]
  },
  {
   "cell_type": "code",
   "execution_count": 21,
   "metadata": {},
   "outputs": [
    {
     "data": {
      "text/plain": [
       "1"
      ]
     },
     "execution_count": 21,
     "metadata": {},
     "output_type": "execute_result"
    }
   ],
   "source": [
    "3 // 2 # int(정수)형"
   ]
  },
  {
   "cell_type": "code",
   "execution_count": 22,
   "metadata": {},
   "outputs": [
    {
     "data": {
      "text/plain": [
       "2.0"
      ]
     },
     "execution_count": 22,
     "metadata": {},
     "output_type": "execute_result"
    }
   ],
   "source": [
    "4 / 2 # float 소수형"
   ]
  },
  {
   "cell_type": "code",
   "execution_count": 23,
   "metadata": {},
   "outputs": [
    {
     "data": {
      "text/plain": [
       "\"\\n*: 곱하기\\n^: 거듭제곱\\n**: 거듭제곱\\n/: 나누기\\n==: 같다 논리연산식\\n!=: 같지 않다 논리연산식\\n-: 빼기\\n%: mod 어떠한 값으로 나누고 난 '나머지'\\n//: \\n\""
      ]
     },
     "execution_count": 23,
     "metadata": {},
     "output_type": "execute_result"
    }
   ],
   "source": [
    "\"\"\"\n",
    "사칙연산\n",
    "+: 더하기\n",
    "*: 곱하기\n",
    "^: 제곱(승) ex. 2^3 == 2 * 2 * 2\n",
    "**: 거듭제곱\n",
    "/: 나누기\n",
    "-: 빼기\n",
    "%: mod 어떠한 값으로 나누고 난 '나머지'\n",
    "//: 나눈 후 소수버림\n",
    "\"\"\""
   ]
  },
  {
   "cell_type": "code",
   "execution_count": 34,
   "metadata": {},
   "outputs": [
    {
     "name": "stdout",
     "output_type": "stream",
     "text": [
      "<class 'str'>\n",
      "<class 'str'>\n",
      "감자10\n",
      "감자10\n"
     ]
    }
   ],
   "source": [
    "x = \"감자\" # String \n",
    "y = 10 # int\n",
    "print(type(x))\n",
    "print(type(y))\n",
    "print(\"{}{}\".format(x, y))\n",
    "print(f\"{x}{y}\")\n",
    "\"\"\"\n",
    "기본적으로 문자형과 숫자형의 덧셈은 불가능하나, format(fstring)을 통해 표현 가능함\n",
    "\"\"\""
   ]
  },
  {
   "cell_type": "code",
   "execution_count": 38,
   "metadata": {},
   "outputs": [
    {
     "name": "stdout",
     "output_type": "stream",
     "text": [
      "감자감자감자감자감자감자감자감자감자감자\n"
     ]
    }
   ],
   "source": [
    "print(x * 10) # 문자형에 숫자를 곱하게 되면 곱한 만큼의 값이 출력이 됨"
   ]
  },
  {
   "cell_type": "code",
   "execution_count": 43,
   "metadata": {},
   "outputs": [
    {
     "data": {
      "text/plain": [
       "True"
      ]
     },
     "execution_count": 43,
     "metadata": {},
     "output_type": "execute_result"
    }
   ],
   "source": [
    "x < 5 # Boolean형은 보통 비교연산자를 사용하였을 때 값으로 나옴"
   ]
  },
  {
   "cell_type": "code",
   "execution_count": 44,
   "metadata": {},
   "outputs": [
    {
     "data": {
      "text/plain": [
       "'\\n<: 작다\\n>: 크다\\n<=: 작거나 같다\\n>=: 크거나 같다\\n!=: 아니다\\n==: 일차(같다)\\n'"
      ]
     },
     "execution_count": 44,
     "metadata": {},
     "output_type": "execute_result"
    }
   ],
   "source": [
    "\"\"\"\n",
    "비교연산자\n",
    "<: 작다\n",
    ">: 크다\n",
    "<=: 작거나 같다\n",
    ">=: 크거나 같다\n",
    "!=: 아니다\n",
    "==: 일치(같다)\n",
    "\"\"\""
   ]
  }
 ],
 "metadata": {
  "kernelspec": {
   "display_name": "Python 3",
   "language": "python",
   "name": "python3"
  },
  "language_info": {
   "codemirror_mode": {
    "name": "ipython",
    "version": 3
   },
   "file_extension": ".py",
   "mimetype": "text/x-python",
   "name": "python",
   "nbconvert_exporter": "python",
   "pygments_lexer": "ipython3",
   "version": "3.8.5"
  }
 },
 "nbformat": 4,
 "nbformat_minor": 4
}
